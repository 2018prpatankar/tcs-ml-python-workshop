{
 "cells": [
  {
   "cell_type": "code",
   "execution_count": 1,
   "metadata": {
    "colab": {
     "autoexec": {
      "startup": false,
      "wait_interval": 0
     }
    },
    "colab_type": "code",
    "id": "WB4abgtc9eFB"
   },
   "outputs": [],
   "source": [
    "import sys,os,re\n",
    "import urllib.request\n",
    "import pandas\n",
    "import numpy\n",
    "import sklearn\n",
    "import sklearn.model_selection\n",
    "import sklearn.metrics\n",
    "import sklearn.naive_bayes\n",
    "import sklearn.neural_network\n",
    "import matplotlib.pyplot"
   ]
  },
  {
   "cell_type": "markdown",
   "metadata": {
    "colab_type": "text",
    "id": "0IfYRLss9r1W"
   },
   "source": [
    "### Convenience function for model performance evaluation:"
   ]
  },
  {
   "cell_type": "code",
   "execution_count": 2,
   "metadata": {
    "colab": {
     "autoexec": {
      "startup": false,
      "wait_interval": 0
     }
    },
    "colab_type": "code",
    "id": "EpRfUeQ2-Ux9"
   },
   "outputs": [],
   "source": [
    "def print_score(Ytrue,Ypred):\n",
    "  print(\"precision: %.2f ; recall: %.2f ; F1: %.2f\"%(\n",
    "        sklearn.metrics.precision_score(Ytrue,Ypred),\n",
    "        sklearn.metrics.recall_score(Ytrue,Ypred),\n",
    "        sklearn.metrics.f1_score(Ytrue,Ypred)), file=sys.stderr)"
   ]
  },
  {
   "cell_type": "markdown",
   "metadata": {
    "colab_type": "text",
    "id": "shr67tJv-sdT"
   },
   "source": [
    "### *UC Irvine ML Archive dataset: Pima Indians & Diabetes*\n",
    "### Read from URL into pandas DataFrame:\n"
   ]
  },
  {
   "cell_type": "code",
   "execution_count": 12,
   "metadata": {
    "colab": {
     "autoexec": {
      "startup": false,
      "wait_interval": 0
     },
     "base_uri": "https://localhost:8080/",
     "height": 374,
     "output_extras": [
      {
       "item_id": 1
      }
     ]
    },
    "colab_type": "code",
    "executionInfo": {
     "elapsed": 468,
     "status": "ok",
     "timestamp": 1519598987561,
     "user": {
      "displayName": "Jeremy Yang",
      "photoUrl": "//lh4.googleusercontent.com/-oulNnl1aBlA/AAAAAAAAAAI/AAAAAAAAAm4/uOczRUUkS4g/s50-c-k-no/photo.jpg",
      "userId": "102807397641040966212"
     },
     "user_tz": 420
    },
    "id": "nppJWgJZ-6kQ",
    "outputId": "ce649f1e-663b-40ee-a9c3-7abca5944b42"
   },
   "outputs": [
    {
     "name": "stderr",
     "output_type": "stream",
     "text": [
      "dataset ncols: 9 ; nrows: 768:\n",
      "   number_of_times_pregnant  plasma_glucose_concentration  \\\n",
      "0                         6                           148   \n",
      "1                         1                            85   \n",
      "2                         8                           183   \n",
      "3                         1                            89   \n",
      "4                         0                           137   \n",
      "\n",
      "   diastolic_blood_pressure  triceps_skin_fold_thickness  serum_insulin  \\\n",
      "0                        72                           35              0   \n",
      "1                        66                           29              0   \n",
      "2                        64                            0              0   \n",
      "3                        66                           23             94   \n",
      "4                        40                           35            168   \n",
      "\n",
      "   body_mass_index  diabetes_pedigree  age  class  \n",
      "0             33.6              0.627   50      1  \n",
      "1             26.6              0.351   31      0  \n",
      "2             23.3              0.672   32      1  \n",
      "3             28.1              0.167   21      0  \n",
      "4             43.1              2.288   33      1  \n"
     ]
    }
   ],
   "source": [
    "#fin = urllib.request.urlopen(\"http://archive.ics.uci.edu/ml/machine-learning-databases/pima-indians-diabetes/pima-indians-diabetes.data\") #problem with url\n",
    "fin = open('pima-indians-diabetes.data','r')\n",
    "\n",
    "pima_df = pandas.read_csv(fin, header=None,\n",
    "        names = [\n",
    "        \"number_of_times_pregnant\",\n",
    "        \"plasma_glucose_concentration\",\n",
    "        \"diastolic_blood_pressure\",\n",
    "        \"triceps_skin_fold_thickness\",\n",
    "        \"serum_insulin\",\n",
    "        \"body_mass_index\",\n",
    "        \"diabetes_pedigree\",\n",
    "        \"age\",\n",
    "        \"class\"])\n",
    "\n",
    "fin.close()  \n",
    "nrows,ncols = pima_df.shape\n",
    "print(\"dataset ncols: %d ; nrows: %d:\"%(ncols,nrows), file=sys.stderr)\n",
    "print(pima_df.head(), file=sys.stderr)"
   ]
  },
  {
   "cell_type": "markdown",
   "metadata": {
    "colab_type": "text",
    "id": "EVckrL25I0U4"
   },
   "source": [
    "### Histogram of BMI"
   ]
  },
  {
   "cell_type": "code",
   "execution_count": 7,
   "metadata": {
    "colab": {
     "autoexec": {
      "startup": false,
      "wait_interval": 0
     },
     "base_uri": "https://localhost:8080/",
     "height": 376,
     "output_extras": [
      {
       "item_id": 1
      }
     ]
    },
    "colab_type": "code",
    "executionInfo": {
     "elapsed": 595,
     "status": "ok",
     "timestamp": 1519599059909,
     "user": {
      "displayName": "Jeremy Yang",
      "photoUrl": "//lh4.googleusercontent.com/-oulNnl1aBlA/AAAAAAAAAAI/AAAAAAAAAm4/uOczRUUkS4g/s50-c-k-no/photo.jpg",
      "userId": "102807397641040966212"
     },
     "user_tz": 420
    },
    "id": "dYQk9r3eImgr",
    "outputId": "1798a474-e3b6-4c67-831f-373de2da2872"
   },
   "outputs": [
    {
     "data": {
      "image/png": "[encoded data removed]",
      "text/plain": [
       "<matplotlib.figure.Figure at 0x26a3a3aec18>"
      ]
     },
     "metadata": {},
     "output_type": "display_data"
    }
   ],
   "source": [
    "n, bins, patches = matplotlib.pyplot.hist(pima_df[\"body_mass_index\"], 50, facecolor='#8888FF', alpha=0.75)\n",
    "\n",
    "matplotlib.pyplot.xlabel('BMI')\n",
    "matplotlib.pyplot.title('Histogram of BMI')\n",
    "matplotlib.pyplot.grid(True)\n",
    "matplotlib.pyplot.show()"
   ]
  },
  {
   "cell_type": "markdown",
   "metadata": {
    "colab_type": "text",
    "id": "tuSBbz5w_as3"
   },
   "source": [
    "### Read metadata\n"
   ]
  },
  {
   "cell_type": "code",
   "execution_count": 15,
   "metadata": {
    "colab": {
     "autoexec": {
      "startup": false,
      "wait_interval": 0
     },
     "base_uri": "https://localhost:8080/",
     "height": 1292,
     "output_extras": [
      {
       "item_id": 1
      }
     ]
    },
    "colab_type": "code",
    "executionInfo": {
     "elapsed": 297,
     "status": "ok",
     "timestamp": 1519599076392,
     "user": {
      "displayName": "Jeremy Yang",
      "photoUrl": "//lh4.googleusercontent.com/-oulNnl1aBlA/AAAAAAAAAAI/AAAAAAAAAm4/uOczRUUkS4g/s50-c-k-no/photo.jpg",
      "userId": "102807397641040966212"
     },
     "user_tz": 420
    },
    "id": "11Bxz8l7_fhh",
    "outputId": "ea7c7412-49fa-4e13-bf19-f67ba965710f"
   },
   "outputs": [
    {
     "data": {
      "text/plain": [
       "['1. Title: Pima Indians Diabetes Database',\n",
       " '',\n",
       " '2. Sources:',\n",
       " '   (a) Original owners: National Institute of Diabetes and Digestive and',\n",
       " '                        Kidney Diseases',\n",
       " '   (b) Donor of database: Vincent Sigillito (vgs@aplcen.apl.jhu.edu)',\n",
       " '                          Research Center, RMI Group Leader',\n",
       " '                          Applied Physics Laboratory',\n",
       " '                          The Johns Hopkins University',\n",
       " '                          Johns Hopkins Road',\n",
       " '                          Laurel, MD 20707',\n",
       " '                          (301) 953-6231',\n",
       " '   (c) Date received: 9 May 1990',\n",
       " '',\n",
       " '3. Past Usage:',\n",
       " '    1. Smith,~J.~W., Everhart,~J.~E., Dickson,~W.~C., Knowler,~W.~C., \\\\&',\n",
       " '       Johannes,~R.~S. (1988). Using the ADAP learning algorithm to forecast',\n",
       " '       the onset of diabetes mellitus.  In {\\\\it Proceedings of the Symposium',\n",
       " '       on Computer Applications and Medical Care} (pp. 261--265).  IEEE',\n",
       " '       Computer Society Press.',\n",
       " '',\n",
       " '       The diagnostic, binary-valued variable investigated is whether the',\n",
       " '       patient shows signs of diabetes according to World Health Organization',\n",
       " '       criteria (i.e., if the 2 hour post-load plasma glucose was at least ',\n",
       " '       200 mg/dl at any survey  examination or if found during routine medical',\n",
       " '       care).   The population lives near Phoenix, Arizona, USA.',\n",
       " '',\n",
       " '       Results: Their ADAP algorithm makes a real-valued prediction between',\n",
       " '       0 and 1.  This was transformed into a binary decision using a cutoff of ',\n",
       " '       0.448.  Using 576 training instances, the sensitivity and specificity',\n",
       " '       of their algorithm was 76% on the remaining 192 instances.',\n",
       " '',\n",
       " '4. Relevant Information:',\n",
       " '      Several constraints were placed on the selection of these instances from',\n",
       " '      a larger database.  In particular, all patients here are females at',\n",
       " '      least 21 years old of Pima Indian heritage.  ADAP is an adaptive learning',\n",
       " '      routine that generates and executes digital analogs of perceptron-like',\n",
       " '      devices.  It is a unique algorithm; see the paper for details.',\n",
       " '',\n",
       " '5. Number of Instances: 768',\n",
       " '',\n",
       " '6. Number of Attributes: 8 plus class ',\n",
       " '',\n",
       " '7. For Each Attribute: (all numeric-valued)',\n",
       " '   1. Number of times pregnant',\n",
       " '   2. Plasma glucose concentration a 2 hours in an oral glucose tolerance test',\n",
       " '   3. Diastolic blood pressure (mm Hg)',\n",
       " '   4. Triceps skin fold thickness (mm)',\n",
       " '   5. 2-Hour serum insulin (mu U/ml)',\n",
       " '   6. Body mass index (weight in kg/(height in m)^2)',\n",
       " '   7. Diabetes pedigree function',\n",
       " '   8. Age (years)',\n",
       " '   9. Class variable (0 or 1)',\n",
       " '',\n",
       " '8. Missing Attribute Values: Yes',\n",
       " '',\n",
       " '9. Class Distribution: (class value 1 is interpreted as \"tested positive for',\n",
       " '   diabetes\")',\n",
       " '',\n",
       " '   Class Value  Number of instances',\n",
       " '   0            500',\n",
       " '   1            268',\n",
       " '',\n",
       " '10. Brief statistical analysis:',\n",
       " '',\n",
       " '    Attribute number:    Mean:   Standard Deviation:',\n",
       " '    1.                     3.8     3.4',\n",
       " '    2.                   120.9    32.0',\n",
       " '    3.                    69.1    19.4',\n",
       " '    4.                    20.5    16.0',\n",
       " '    5.                    79.8   115.2',\n",
       " '    6.                    32.0     7.9',\n",
       " '    7.                     0.5     0.3',\n",
       " '    8.                    33.2    11.8',\n",
       " '']"
      ]
     },
     "execution_count": 15,
     "metadata": {},
     "output_type": "execute_result"
    }
   ],
   "source": [
    "#fin = urllib.request.urlopen(\"http://archive.ics.uci.edu/ml/machine-learning-databases/pima-indians-diabetes/pima-indians-diabetes.names\") #problem with url\n",
    "fin = open('pima-indians-diabetes.names','r') \n",
    "#pima_metadata = fin.read().decode('utf8')\n",
    "pima_metadata = fin.read()\n",
    "fin.close() \n",
    "pima_metadata.splitlines()"
   ]
  },
  {
   "cell_type": "markdown",
   "metadata": {
    "colab_type": "text",
    "id": "AtZx0jXIAAGh"
   },
   "source": [
    "### Separate input variables and class labels into X & Y arrays."
   ]
  },
  {
   "cell_type": "code",
   "execution_count": 16,
   "metadata": {
    "colab": {
     "autoexec": {
      "startup": false,
      "wait_interval": 0
     }
    },
    "colab_type": "code",
    "id": "ZkeWq-A3AwSR"
   },
   "outputs": [],
   "source": [
    "Y = pima_df['class'].as_matrix() \n",
    "X = pima_df.iloc[:,0:ncols-1].as_matrix()"
   ]
  },
  {
   "cell_type": "markdown",
   "metadata": {
    "colab_type": "text",
    "id": "AJD2lQVrA7Y2"
   },
   "source": [
    "### Create train/test split for modeling"
   ]
  },
  {
   "cell_type": "code",
   "execution_count": 17,
   "metadata": {
    "colab": {
     "autoexec": {
      "startup": false,
      "wait_interval": 0
     },
     "base_uri": "https://localhost:8080/",
     "height": 34,
     "output_extras": [
      {
       "item_id": 1
      }
     ]
    },
    "colab_type": "code",
    "executionInfo": {
     "elapsed": 304,
     "status": "ok",
     "timestamp": 1519599113154,
     "user": {
      "displayName": "Jeremy Yang",
      "photoUrl": "//lh4.googleusercontent.com/-oulNnl1aBlA/AAAAAAAAAAI/AAAAAAAAAm4/uOczRUUkS4g/s50-c-k-no/photo.jpg",
      "userId": "102807397641040966212"
     },
     "user_tz": 420
    },
    "id": "oQAhG4dYBCsl",
    "outputId": "cc5fa9d0-8625-43e6-b05b-4c5e9b290d01"
   },
   "outputs": [
    {
     "name": "stderr",
     "output_type": "stream",
     "text": [
      "training set: (576, 8) ; test set: (192, 8)\n"
     ]
    }
   ],
   "source": [
    "Xtrain,Xtest,Ytrain,Ytest = sklearn.model_selection.train_test_split(X, Y, test_size=.25)\n",
    "print(\"training set: %s ; test set: %s\"%(Xtrain.shape, Xtest.shape), file=sys.stderr)"
   ]
  },
  {
   "cell_type": "markdown",
   "metadata": {
    "colab_type": "text",
    "id": "7EMo5f6uBIyT"
   },
   "source": [
    "### Naive Bayes"
   ]
  },
  {
   "cell_type": "code",
   "execution_count": 18,
   "metadata": {
    "colab": {
     "autoexec": {
      "startup": false,
      "wait_interval": 0
     },
     "base_uri": "https://localhost:8080/",
     "height": 51,
     "output_extras": [
      {
       "item_id": 1
      },
      {
       "item_id": 2
      }
     ]
    },
    "colab_type": "code",
    "executionInfo": {
     "elapsed": 299,
     "status": "ok",
     "timestamp": 1519599145602,
     "user": {
      "displayName": "Jeremy Yang",
      "photoUrl": "//lh4.googleusercontent.com/-oulNnl1aBlA/AAAAAAAAAAI/AAAAAAAAAm4/uOczRUUkS4g/s50-c-k-no/photo.jpg",
      "userId": "102807397641040966212"
     },
     "user_tz": 420
    },
    "id": "QaQTUgPQBM83",
    "outputId": "bb774a53-8c35-49db-aca7-2c9b7d77e407"
   },
   "outputs": [
    {
     "name": "stdout",
     "output_type": "stream",
     "text": [
      "TP: 44 ; TN: 108 ; FP: 14 ; FN: 26\n"
     ]
    },
    {
     "name": "stderr",
     "output_type": "stream",
     "text": [
      "precision: 0.76 ; recall: 0.63 ; F1: 0.69\n"
     ]
    }
   ],
   "source": [
    "nb = sklearn.naive_bayes.GaussianNB() \n",
    "nb.fit(Xtrain,Ytrain)\n",
    "Y_pred = nb.predict(Xtest)\n",
    "tn, fp, fn, tp = sklearn.metrics.confusion_matrix(Ytest, Y_pred).ravel()\n",
    "print(\"TP: %d ; TN: %d ; FP: %d ; FN: %d\"%(tp, tn, fp, fn))\n",
    "print_score(Ytest,Y_pred)"
   ]
  },
  {
   "cell_type": "markdown",
   "metadata": {
    "colab_type": "text",
    "id": "gwCJVNmsAi1i"
   },
   "source": [
    "### Neural Network"
   ]
  },
  {
   "cell_type": "code",
   "execution_count": 19,
   "metadata": {
    "colab": {
     "autoexec": {
      "startup": false,
      "wait_interval": 0
     },
     "base_uri": "https://localhost:8080/",
     "height": 51,
     "output_extras": [
      {
       "item_id": 1
      },
      {
       "item_id": 2
      }
     ]
    },
    "colab_type": "code",
    "executionInfo": {
     "elapsed": 688,
     "status": "ok",
     "timestamp": 1519599180635,
     "user": {
      "displayName": "Jeremy Yang",
      "photoUrl": "//lh4.googleusercontent.com/-oulNnl1aBlA/AAAAAAAAAAI/AAAAAAAAAm4/uOczRUUkS4g/s50-c-k-no/photo.jpg",
      "userId": "102807397641040966212"
     },
     "user_tz": 420
    },
    "id": "qqggMOyiAG1Q",
    "outputId": "a062772a-7e00-430f-8528-a554f5d387a8"
   },
   "outputs": [
    {
     "name": "stdout",
     "output_type": "stream",
     "text": [
      "TP: 44 ; TN: 108 ; FP: 14 ; FN: 26\n"
     ]
    },
    {
     "name": "stderr",
     "output_type": "stream",
     "text": [
      "precision: 0.76 ; recall: 0.63 ; F1: 0.69\n"
     ]
    }
   ],
   "source": [
    "nn = sklearn.neural_network.MLPClassifier() \n",
    "nn.fit(Xtrain,Ytrain)\n",
    "y_pred = nn.predict(Xtest)\n",
    "tn, fp, fn, tp = sklearn.metrics.confusion_matrix(Ytest, Y_pred).ravel()\n",
    "print(\"TP: %d ; TN: %d ; FP: %d ; FN: %d\"%(tp, tn, fp, fn))\n",
    "print_score(Ytest,Y_pred)"
   ]
  }
 ],
 "metadata": {
  "colab": {
   "default_view": {},
   "name": "ADS_A9_Tutorial.ipynb",
   "provenance": [],
   "version": "0.3.2",
   "views": {}
  },
  "kernelspec": {
   "display_name": "Python 3",
   "language": "python",
   "name": "python3"
  },
  "language_info": {
   "codemirror_mode": {
    "name": "ipython",
    "version": 3
   },
   "file_extension": ".py",
   "mimetype": "text/x-python",
   "name": "python",
   "nbconvert_exporter": "python",
   "pygments_lexer": "ipython3",
   "version": "3.6.4"
  }
 },
 "nbformat": 4,
 "nbformat_minor": 1
}
